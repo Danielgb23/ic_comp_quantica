{
 "cells": [
  {
   "cell_type": "markdown",
   "metadata": {},
   "source": [
    "# Projetos de computação quântica em python"
   ]
  },
  {
   "cell_type": "markdown",
   "metadata": {},
   "source": [
    "# Introdução\n",
    "\n",
    "Nesse caderno de Jupyter simularei em phyton o comportamento de um registrador quântico inicialmente de 3 qubits e a seguir com outros números de qubits. Também simularei computações nesse registrador implementando portões quânticos como o de Hadamard e de mudança de fase que serão explicados melhor a seguir. Esse registrador quântico é construído a partir de sistemas com dois vetores de base nos seus espaços de Hilbert(um sistema quântico onde as medidas podem ter 2 resultados). Como uma partícula de spin $1/2$ por exemplo. A equação de estado geral para um sistema desse tipo é dada por $|\\Psi\\rangle  =  a|\\uparrow\\rangle  +  b|\\downarrow\\rangle$. Onde $|\\uparrow\\rangle$ e $|\\downarrow\\rangle$ equivalem à representação de dois estados quânticos diferentes que podem ser medidos nesse sistema ou aos autovetores do observável $S_{z}$ cujos autovalores e logo valores de medida possíveis são $\\lambda = \\pm \\hbar/2$.  Esse observável corresponde a uma medida de spin de uma partícula no eixo $Z$ do sistema que pode ser up ou down, seta para cima ou para baixo. $a$ e $b$ são magnitudes complexas desses vetores ou amplitudes de probabilidade no jargão quântico. $|a|^{2}$ é a probabilidade de medirmos up ao realizarmos uma medida e $|b|^{2}$ e a de medirmos down. Ambas as constantes obedecem a relação de normalização $|a|^{2} + |b|^{2} = 1$ totalizando probabilidade 1. Estados genéricos $|1\\rangle$ e $|0\\rangle$ serão utilizados no lugar dos spins também por serem mais intuitivos se tratando de estudos a respeito de computação. \n",
    "\n"
   ]
  },
  {
   "cell_type": "markdown",
   "metadata": {},
   "source": [
    "Um registrador de N qubits equivale a um produto tensorial de N estados $|\\Psi_{i}\\rangle = a_{i}|0\\rangle  +  b_{i}|1\\rangle$ (de N partículas no caso do registrador ser implementado dessa forma). O produto tensorial de $A$ e $B$ é uma operação entre esses vetores que gera uma vetor cuja dimensão é a soma deles e cuja base é formada pela combinação das possíveis bases dos espaços dos vetores que multiplicamos. Logo a representação de um registrador quântico de 3 qubits será dada por: $|\\Psi_{0}\\rangle \\otimes |\\Psi_{1}\\rangle \\otimes |\\Psi_{2}\\rangle$ ou $|\\Psi_{0}\\Psi_{1}\\Psi_{2}\\rangle$.  As bases do estado resultado desse produto são dadas pela combinação de produtos tensoriais das bases de um estado de um único qubit. E o resultado da medida de um qubit dessa base seria o de cada qubit nesse vetor. $|001\\rangle$ então resultaria numa medida $S_{z}$ de $-\\hbar/2$ (0) para o primeiro qubit, $-\\hbar/2$ para o segundo e $+\\hbar/2$ (1) para o terceiro. $|\\Psi_{0}\\Psi_{1}\\Psi_{2}\\rangle = |\\Psi\\rangle$ é uma combinação linear de 8 estados diferentes dada por: $a|000\\rangle + b|001\\rangle + \\ldots+ g|110\\rangle + h|111\\rangle$. Onde o vetor $[a, b, c, d, e, f, g, h]$ corresponde às amplitudes de probabilidade complexas de cada vetor nesse espaço.\n",
    "\n"
   ]
  },
  {
   "cell_type": "markdown",
   "metadata": {},
   "source": [
    "***\n",
    "#  Projeto 1:\n",
    "Medida de um registrador de N-qubits. Nesse caderno usaremos um registrador de 3 qubits com função de onda $|\\Psi\\rangle$ representada por Psi no programa. "
   ]
  },
  {
   "cell_type": "markdown",
   "metadata": {},
   "source": [
    "Código das funções utilizadas e imports:"
   ]
  },
  {
   "cell_type": "code",
   "execution_count": 4,
   "metadata": {},
   "outputs": [],
   "source": [
    "%matplotlib inline\n",
    "import math \n",
    "import random       #para gerar um numero aleatorio na medida\n",
    "from matplotlib import pyplot as plt    #para plotar o grafico da medida\n",
    "import numpy as np\n",
    "\n",
    "#seta o vetor psi em um estado de base dado na entrada\n",
    "def seta_base(Psi, estado):\n",
    "    count=0\n",
    "    Psi[estado]=1\n",
    "    for c in Psi:    #passa o loop pelo vetor Psi \n",
    "        if count != estado:\n",
    "            Psi[count]=0\n",
    "        count=count+1   #enumera os componentes de psi\n",
    "        \n",
    "#dado um vetor psi de amplitudes de probabilidade de um sitema de bits quanticos com numero arbitrario de bits. Simula uma medida colapsando psi para um dos seus componentes, seguindo a distribuicao de probabilidade adequada.\n",
    "def medir(Psi):\n",
    "    r=random.random()   #r recebe um numero aleatorio float de 0 ate 1\n",
    "    q=0\n",
    "    count=0\n",
    "    for c in Psi:       #esse loop vai somando as probabilidades da medida colapsar para algum componente de psi ate r estar contido no intervalo de 0 ate q\n",
    "        q=q+abs(c)**2   #q recebe o valor absoluto da amplitude de probabilidade desse componente de psi\n",
    "        if q >r:\n",
    "            break\n",
    "        count=count+1   #enumera os componentes de psi\n",
    "    return count\n",
    "\n",
    "\n",
    "\n",
    "#mede a funcao de onda Psi n vezes e imprime o grafico com a frequencia de obtencao de cada resultado de medida\n",
    "#qubits e o numero de qubits\n",
    "def medir_n(Psi, n, qubits):\n",
    "    medidas=[0 for c in Psi]\n",
    "    i=0\n",
    "    while i<n:\n",
    "        i=i+1\n",
    "        resultado=medir(Psi)\n",
    "        medidas[resultado]=medidas[resultado]+1\n",
    "\n",
    "    plt.xlabel('Resultado')\n",
    "    plt.ylabel('Numero de medidas')\n",
    "    plt.title('Medidas')\n",
    "    \n",
    "    index=np.arange(2**qubits) #index de numeros inteiros com numero de resultados possiveis\n",
    "    rotulo=[bin(c)[2:].zfill(qubits) for c in index] #cria um vetor com rotulos em binario para o eixo x\n",
    "    plt.xticks(index, rotulo)   #para o grafico usar os rotulos\n",
    "    plt.bar(np.arange(2**qubits), medidas) #plota o grafico\n"
   ]
  },
  {
   "cell_type": "markdown",
   "metadata": {},
   "source": [
    "## 1-Estado de base:\n",
    "Psi está agora no estado base $|\\Psi\\rangle = |101\\rangle$ (5 em binário)"
   ]
  },
  {
   "cell_type": "code",
   "execution_count": 7,
   "metadata": {},
   "outputs": [
    {
     "name": "stdout",
     "output_type": "stream",
     "text": [
      "[0, 0, 0, 0, 0, 1, 0, 0]\n"
     ]
    }
   ],
   "source": [
    "Psi=[0, 0, 0, 0, 0, 0, 0, 0] \n",
    "seta_base(Psi, 5) \n",
    "print(Psi)"
   ]
  },
  {
   "cell_type": "markdown",
   "metadata": {},
   "source": [
    "Realizamos a seguir uma medida no estado de Psi sem colapsar a função de onda. Para colapsar a função basta usar seta_base com o resultado da medida como segundo parâmetro.\n"
   ]
  },
  {
   "cell_type": "code",
   "execution_count": 8,
   "metadata": {},
   "outputs": [],
   "source": [
    "resultado=medir(Psi)"
   ]
  },
  {
   "cell_type": "markdown",
   "metadata": {},
   "source": [
    "Resultado em binário"
   ]
  },
  {
   "cell_type": "code",
   "execution_count": 9,
   "metadata": {},
   "outputs": [
    {
     "data": {
      "text/plain": [
       "'101'"
      ]
     },
     "execution_count": 9,
     "metadata": {},
     "output_type": "execute_result"
    }
   ],
   "source": [
    "bin(resultado)[2:].zfill(3) "
   ]
  },
  {
   "cell_type": "markdown",
   "metadata": {},
   "source": [
    "Plota um gráfico para 100 medidas do estado $|\\Psi\\rangle$."
   ]
  },
  {
   "cell_type": "code",
   "execution_count": 230,
   "metadata": {},
   "outputs": [
    {
     "data": {
      "image/png": "[encoded data removed]",
      "text/plain": [
       "<matplotlib.figure.Figure at 0x7f42e0e97d10>"
      ]
     },
     "metadata": {
      "needs_background": "light"
     },
     "output_type": "display_data"
    }
   ],
   "source": [
    "medir_n(Psi, 100, 3)"
   ]
  },
  {
   "cell_type": "markdown",
   "metadata": {},
   "source": [
    "## 2-Estado de gato: \n",
    "A variável 'a' esta com o valor da raiz de 2 sobre 2 para duas das amplitudes de probabilidade"
   ]
  },
  {
   "cell_type": "code",
   "execution_count": 231,
   "metadata": {},
   "outputs": [],
   "source": [
    "a=1/math.sqrt(2)    "
   ]
  },
  {
   "cell_type": "markdown",
   "metadata": {},
   "source": [
    "Psi aqui está no estado de gato $|\\Psi\\rangle = \\frac{1}{\\sqrt{2}}|000\\rangle + \\frac{1}{\\sqrt{2}}|111\\rangle$ com uma superposição entre os dois estados  $|000\\rangle$ e $|111\\rangle$. Logo ambos têm probabilidades iguais de medida do sistema e enquanto não há nenhuma medida o 'gato está vivo e morto ao mesmo tempo'.\n"
   ]
  },
  {
   "cell_type": "code",
   "execution_count": 232,
   "metadata": {},
   "outputs": [],
   "source": [
    "Psi=[a, 0, 0, 0, 0, 0, 0, a] "
   ]
  },
  {
   "cell_type": "code",
   "execution_count": 233,
   "metadata": {},
   "outputs": [
    {
     "data": {
      "image/png": "[encoded data removed]",
      "text/plain": [
       "<matplotlib.figure.Figure at 0x7f42e1501850>"
      ]
     },
     "metadata": {
      "needs_background": "light"
     },
     "output_type": "display_data"
    }
   ],
   "source": [
    "medir_n(Psi, 100, 3)"
   ]
  },
  {
   "cell_type": "markdown",
   "metadata": {},
   "source": [
    "## 3-Superposição igual de todos os estados:\n",
    "Aqui Psi está em uma superposição de todos os resultados de medida possíveis para o registrador: $|\\Psi\\rangle = \\frac{1}{\\sqrt{8}}|000\\rangle + \\frac{1}{\\sqrt{8}}|001\\rangle + \\ldots+ \\frac{1}{\\sqrt{8}}|110\\rangle + \\frac{1}{\\sqrt{8}}|111\\rangle$. Logo podemos medir qualquer valor para qualquer qubit sem nenhuma correlação entre eles.\n"
   ]
  },
  {
   "cell_type": "code",
   "execution_count": 234,
   "metadata": {},
   "outputs": [],
   "source": [
    "a=1/math.sqrt(8)    \n",
    "Psi=[a, a, a, a, a, a, a, a] \n"
   ]
  },
  {
   "cell_type": "code",
   "execution_count": 235,
   "metadata": {},
   "outputs": [
    {
     "data": {
      "image/png": "[encoded data removed]",
      "text/plain": [
       "<matplotlib.figure.Figure at 0x7f42e15ca9d0>"
      ]
     },
     "metadata": {
      "needs_background": "light"
     },
     "output_type": "display_data"
    }
   ],
   "source": [
    "medir_n(Psi, 1000, 3)"
   ]
  },
  {
   "cell_type": "markdown",
   "metadata": {},
   "source": [
    "***\n",
    "#  Projeto 2:\n",
    "Nesse projeto veremos a aplicação de portas que afetam um único qubit que são a porta de Hadamard e a de mudança de fase. "
   ]
  },
  {
   "cell_type": "code",
   "execution_count": 24,
   "metadata": {},
   "outputs": [],
   "source": [
    "from sympy import I, Matrix, symbols            #para os produtos de tensores\n",
    "from sympy.physics.quantum import TensorProduct #para operar gates em registradores com varios bits\n",
    "import math\n",
    "import cmath\n",
    "from sympy.matrices import *\n",
    "\n",
    "def tensorNqubits(portao, alvo, qubits): #muda o portao de 1 bit para um de N qubits no alvo a escolha\n",
    "    i=0\n",
    "    alvo=alvo-1\n",
    "    while i < alvo: #faz produtos tensoriais para os qubits anteriores ao alvo\n",
    "        portao=TensorProduct(eye(2), portao) \n",
    "        i = i + 1\n",
    "    i=0\n",
    "    while i < qubits - alvo - 1: #faz produtos tensoriais para os qubits posteriores ao alvo\n",
    "        portao=TensorProduct(portao, eye(2)) \n",
    "        i = i + 1\n",
    "    return portao \n",
    "\n",
    "#aplica o operador de hadamard no qubit alvo de Psi\n",
    "def hadamard(Psi, alvo, qubits):\n",
    "    \n",
    "    h1q=ones(2) #faz uma matriz 2x2 portao de hadamard para 1 qubit\n",
    "    h1q[1,1]=-1\n",
    "    \n",
    "    had=tensorNqubits(h1q, alvo, qubits)\n",
    "    \n",
    "    psi=np.matrix(Psi)  #para poder multiplicar o vetor de estado pelo operador\n",
    "    \n",
    "    a=1/math.sqrt(2)\n",
    "    psi=psi*had*a         #opera a multiplicacao de matrizes mais o fator a que normaliza a matriz do portao de hadamard\n",
    "    \n",
    "    return psi.tolist()[0] #transforma a matriz de volta em lista\n",
    "\n",
    "#retorna o estado Psi com o portao de mundanca de fase aplicado no qubit alvo\n",
    "def muda_fase(Psi, alvo, fase, qubits):\n",
    "    \n",
    "    p1q=eye(2) #faz uma matriz 2x2 portao de hadamard para 1 qubit\n",
    "    p1q[1,1]=cmath.exp( complex(0, fase) )\n",
    "    \n",
    "    phase=tensorNqubits(p1q , alvo, qubits)\n",
    "    \n",
    "    psi=np.matrix(Psi)  #para poder multiplicar o vetor de estado pelo operador\n",
    "    \n",
    "    psi=psi*phase         #opera a multiplicacao de matrizes mais o fator a que normaliza a matriz do portao de hadamard\n",
    "    \n",
    "    return psi.tolist()[0] #transforma a matriz de volta em lista\n"
   ]
  },
  {
   "cell_type": "markdown",
   "metadata": {},
   "source": [
    "## Hadamard\n",
    "A porta de Hadamard para 1 qubit é dada pela matriz:\n",
    "    $$\n",
    "    \\frac{1}{\\sqrt{2}} \\begin{pmatrix}\n",
    "    1 & 1\\\\\n",
    "    1 & -1 \n",
    "    \\end{pmatrix}$$\n",
    "Num vetor em estado base $|0\\rangle$ ela distribui a amplitude de probabilidade (escalar complexo que multiplica os componentes) entre os dois estados igualmente. No vetor $|1\\rangle$ ela faz o mesmo só que com um sinal negativo na amplitude do estado $|1\\rangle$."
   ]
  },
  {
   "cell_type": "code",
   "execution_count": 238,
   "metadata": {},
   "outputs": [
    {
     "name": "stdout",
     "output_type": "stream",
     "text": [
      "[0.707106781186547, 0.707106781186547]\n"
     ]
    }
   ],
   "source": [
    "qubit=[1,0]\n",
    "qubit=hadamard(qubit, 1, 1)\n",
    "print(qubit)"
   ]
  },
  {
   "cell_type": "code",
   "execution_count": 239,
   "metadata": {},
   "outputs": [
    {
     "name": "stdout",
     "output_type": "stream",
     "text": [
      "[0.707106781186547, -0.707106781186547]\n"
     ]
    }
   ],
   "source": [
    "qubit=[0,1]\n",
    "qubit=hadamard(qubit, 1, 1)\n",
    "print(qubit)"
   ]
  },
  {
   "cell_type": "markdown",
   "metadata": {},
   "source": [
    "## Mudança de fase\n",
    "A porta de mundança de uma fase $\\theta$ para 1 qubit é dada pela matriz:\n",
    "    $$\n",
    "     \\begin{pmatrix}\n",
    "    1 & 0\\\\\n",
    "    0 & e^{\\theta i} \n",
    "    \\end{pmatrix}$$\n",
    "Ou seja ela mantém o componente do vetor-qubit $|0\\rangle$ e coloca uma fase complexa no componente $|1\\rangle$ preservando os módulos e logo as probabilidades. Isso parece não fazer diferença já que a medida é a mesma mas aplicando outras portas como veremos no quarto experimento vemos os efeitos da fase nas nossas computações."
   ]
  },
  {
   "cell_type": "code",
   "execution_count": 240,
   "metadata": {},
   "outputs": [
    {
     "name": "stdout",
     "output_type": "stream",
     "text": [
      "[1, 0]\n"
     ]
    },
    {
     "data": {
      "image/png": "[encoded data removed]",
      "text/plain": [
       "<matplotlib.figure.Figure at 0x7f42e13b3250>"
      ]
     },
     "metadata": {
      "needs_background": "light"
     },
     "output_type": "display_data"
    }
   ],
   "source": [
    "qubit=[1,0]\n",
    "qubit=muda_fase(qubit, 1, math.pi/2, 1)\n",
    "print(qubit)\n",
    "medir_n(qubit, 100, 1)"
   ]
  },
  {
   "cell_type": "code",
   "execution_count": 241,
   "metadata": {},
   "outputs": [
    {
     "name": "stdout",
     "output_type": "stream",
     "text": [
      "[0, 6.12323399573677e-17 + 1.0*I]\n"
     ]
    },
    {
     "data": {
      "image/png": "[encoded data removed]",
      "text/plain": [
       "<matplotlib.figure.Figure at 0x7f42e10d8e50>"
      ]
     },
     "metadata": {
      "needs_background": "light"
     },
     "output_type": "display_data"
    }
   ],
   "source": [
    "qubit=[0,1]\n",
    "qubit=muda_fase(qubit, 1, math.pi/2, 1)\n",
    "print(qubit)\n",
    "medir_n(qubit, 100, 1)"
   ]
  },
  {
   "cell_type": "code",
   "execution_count": 242,
   "metadata": {},
   "outputs": [
    {
     "name": "stdout",
     "output_type": "stream",
     "text": [
      "[0, 0.707106781186548 - 0.707106781186547*I]\n"
     ]
    },
    {
     "data": {
      "image/png": "[encoded data removed]",
      "text/plain": [
       "<matplotlib.figure.Figure at 0x7f42e0f7b050>"
      ]
     },
     "metadata": {
      "needs_background": "light"
     },
     "output_type": "display_data"
    }
   ],
   "source": [
    "qubit=[0,1]\n",
    "qubit=muda_fase(qubit, 1, -math.pi/4, 1)\n",
    "print(qubit)\n",
    "medir_n(qubit, 100, 1)"
   ]
  },
  {
   "cell_type": "markdown",
   "metadata": {},
   "source": [
    "## Experimentos"
   ]
  },
  {
   "cell_type": "markdown",
   "metadata": {},
   "source": [
    "Aqui faremos experimentos com 3 qubits e as portas. Aplicaremos os gates no vetor de estado base com todos os qubits em 0 para os experimentos, $\\Psi = |000\\rangle$."
   ]
  },
  {
   "cell_type": "code",
   "execution_count": 243,
   "metadata": {},
   "outputs": [
    {
     "name": "stdout",
     "output_type": "stream",
     "text": [
      "[1, 0, 0, 0, 0, 0, 0, 0]\n"
     ]
    }
   ],
   "source": [
    "Psi=[0,0,0,0,0,0,0,0]\n",
    "seta_base(Psi, 0)\n",
    "print(Psi)"
   ]
  },
  {
   "cell_type": "markdown",
   "metadata": {},
   "source": [
    "## 1-Hadamard no segundo bit \n",
    "Representado por: $H^{(2)}|000\\rangle$ na notação de bra-ket ou Dirac. \n",
    "\n",
    "Trata-se de um simples Hadamard em 1 qubit como visto anteriormente. Mas para usá-lo em três qubits precisamos fazer um ajuste na dimensão da matriz que faz a operação. Para uma porta que opera apenas um qubit basta fazer produtos tensoriais  $H^{(2)} = I \\otimes H \\otimes I$ com matrizes identidade. As matrizes indentidade são colocadas no lugar dos qubits que não sofrem a operação e a porta desejada no lugar do qubit que se deseja operar. \n",
    "Logo $H^{(3)} = I \\otimes I \\otimes H$ assim como $H^{(1)} = H \\otimes I \\otimes I$\n",
    "\n",
    "![title](img/proj2h1.png)\n"
   ]
  },
  {
   "cell_type": "code",
   "execution_count": 244,
   "metadata": {},
   "outputs": [
    {
     "name": "stdout",
     "output_type": "stream",
     "text": [
      "[0.707106781186547, 0, 0.707106781186547, 0, 0, 0, 0, 0]\n"
     ]
    },
    {
     "data": {
      "image/png": "[encoded data removed]",
      "text/plain": [
       "<matplotlib.figure.Figure at 0x7f42e11a7550>"
      ]
     },
     "metadata": {
      "needs_background": "light"
     },
     "output_type": "display_data"
    }
   ],
   "source": [
    "Psi=[0]*8\n",
    "seta_base(Psi, 0)\n",
    "Psi=hadamard(Psi, 2, 3)\n",
    "print(Psi)\n",
    "medir_n(Psi, 100, 3)"
   ]
  },
  {
   "cell_type": "markdown",
   "metadata": {},
   "source": [
    "## 2-Três Hadamards, um para cada bit \n",
    "$H^{(3)}H^{(2)}H^{(1)}|000\\rangle$ \n",
    "O Hadamard afeta cada qubit independentemente e faz com que tenham probabilidades iguais de obtermos 0 ou 1 logo aqui o resultado da operação é obter qualquer medida do registrador com igual probabilidade.\n",
    "\n",
    "![title](img/proj2h2.png)"
   ]
  },
  {
   "cell_type": "code",
   "execution_count": 245,
   "metadata": {},
   "outputs": [
    {
     "name": "stdout",
     "output_type": "stream",
     "text": [
      "[0.707106781186547, 0, 0, 0, 0.707106781186547, 0, 0, 0]\n",
      "[0.500000000000000, 0, 0.500000000000000, 0, 0.500000000000000, 0, 0.500000000000000, 0]\n",
      "[0.353553390593274, 0.353553390593274, 0.353553390593274, 0.353553390593274, 0.353553390593274, 0.353553390593274, 0.353553390593274, 0.353553390593274]\n"
     ]
    },
    {
     "data": {
      "image/png": "[encoded data removed]",
      "text/plain": [
       "<matplotlib.figure.Figure at 0x7f42e125be90>"
      ]
     },
     "metadata": {
      "needs_background": "light"
     },
     "output_type": "display_data"
    }
   ],
   "source": [
    "Psi=[0]*8\n",
    "seta_base(Psi,0)\n",
    "Psi=hadamard(Psi, 1, 3)\n",
    "print(Psi)\n",
    "Psi=hadamard(Psi, 2, 3)\n",
    "print(Psi)\n",
    "Psi=hadamard(Psi, 3, 3)\n",
    "print(Psi)\n",
    "medir_n(Psi, 1000, 3)"
   ]
  },
  {
   "cell_type": "markdown",
   "metadata": {},
   "source": [
    "## 3-Dois Hadamards no terceiro bit\n",
    "$H^{(3)}H^{(3)}|000\\rangle$\n",
    "Aplicando um Hadamard no mesmo qubit uma segunda vez revertemos o seu efeito. (vemos que a matriz de hadamard é a própria inversa)\n",
    "\n",
    "![title](img/proj2h3.png)"
   ]
  },
  {
   "cell_type": "code",
   "execution_count": 246,
   "metadata": {},
   "outputs": [
    {
     "name": "stdout",
     "output_type": "stream",
     "text": [
      "[0.707106781186547, 0.707106781186547, 0, 0, 0, 0, 0, 0]\n",
      "[1.00000000000000, 0, 0, 0, 0, 0, 0, 0]\n"
     ]
    },
    {
     "data": {
      "image/png": "[encoded data removed]",
      "text/plain": [
       "<matplotlib.figure.Figure at 0x7f42e0fe8bd0>"
      ]
     },
     "metadata": {
      "needs_background": "light"
     },
     "output_type": "display_data"
    }
   ],
   "source": [
    "Psi=[0]*8\n",
    "seta_base(Psi,0)\n",
    "Psi=hadamard(Psi, 3, 3)\n",
    "print(Psi)\n",
    "Psi=hadamard(Psi, 3, 3)\n",
    "print(Psi)\n",
    "medir_n(Psi, 1000, 3)"
   ]
  },
  {
   "cell_type": "markdown",
   "metadata": {},
   "source": [
    "## 4-Dois Hadamards no terceiro bit e uma mundança de fase de $\\pi$ entre eles \n",
    "$H^{(3)}R_\\pi^{(3)}H^{(3)}|000\\rangle$\n",
    "Aqui aplicamos um portão de hadamard no qubit 3 do registrador e em seguida mudamos a fase da componente $|1\\rangle$ em um ângulo de $\\pi$ (o que inverte o sinal da componente) no mesmo qubit. Esse ultimo portão não alteraria a medida final mas aplicando um novo Hadamard vemos que mudamos o estado do qubit 3 de $|0\\rangle$ para $|1\\rangle$ com esses três portões. Isso ocorre porque o Hadamard de $|0\\rangle$ é $H|0\\rangle = \\frac{1}{\\sqrt{2}}|0\\rangle + \\frac{1}{\\sqrt{2}}|1\\rangle $ e o de $|1\\rangle$ é $H|1\\rangle = \\frac{1}{\\sqrt{2}}|0\\rangle - \\frac{1}{\\sqrt{2}}|1\\rangle$ logo o Hadamard do Hadamard de $|0\\rangle$ com o sinal de $|1\\rangle$ invertido é: $ H(\\frac{1}{\\sqrt{2}}|0\\rangle - \\frac{1}{\\sqrt{2}}|1\\rangle)= HH|1\\rangle=|1\\rangle$\n",
    "\n",
    "\n",
    "![title](img/proj2h4.png)"
   ]
  },
  {
   "cell_type": "code",
   "execution_count": 10,
   "metadata": {},
   "outputs": [
    {
     "name": "stdout",
     "output_type": "stream",
     "text": [
      "[0.707106781186547, 0.707106781186547, 0, 0, 0, 0, 0, 0]\n",
      "[0.707106781186547, -0.707106781186547 + 8.65956056235493e-17*I, 0, 0, 0, 0, 0, 0]\n",
      "[6.12323399573676e-17*I, 1.0 - 6.12323399573676e-17*I, 0, 0, 0, 0, 0, 0]\n"
     ]
    },
    {
     "data": {
      "image/png": "[encoded data removed]",
      "text/plain": [
       "<matplotlib.figure.Figure at 0x7f317a84b410>"
      ]
     },
     "metadata": {
      "needs_background": "light"
     },
     "output_type": "display_data"
    }
   ],
   "source": [
    "Psi=[0]*8\n",
    "seta_base(Psi,0)\n",
    "Psi=hadamard(Psi, 3, 3)\n",
    "print(Psi)\n",
    "Psi=muda_fase(Psi, 3, math.pi, 3)\n",
    "print(Psi)\n",
    "Psi=hadamard(Psi, 3, 3)\n",
    "print(Psi)\n",
    "medir_n(Psi, 1000, 3)"
   ]
  },
  {
   "cell_type": "markdown",
   "metadata": {},
   "source": [
    "***\n",
    "# Projeto 3\n",
    "Nesse projeto veremos um exemplo de computação quântica com o algoritimo de busca de Groover. Esse algoritmo é notável porque a base de dados precisa ser consultada para encontrar o valor em média $\\frac{\\pi}{4}\\sqrt{n}$ vezes ao invés de $\\frac{n}{2}$ que seria de uma busca com um computador clássico. Isso significaria uma redução no tempo de busca bem significativa para bases de dados grandes.\n",
    "\n",
    "No entanto a lista precisaria ser armazenada na forma de um oraculo quântico. Um oraculo quântico aceitaria superposições de consultas à lista retornando uma superposição de respostas. Todavia para obter essa resposta com uma medida acabariamos colapsando a função de onda fazendo com que não pudessemos analisar a superposição para obter a resposta. Mas Groover obteve uma maneira de operar essa função de onda para que ela colapse para a resposta correta a maioria das vezes. Que é o operador de difusão de Groover."
   ]
  },
  {
   "cell_type": "code",
   "execution_count": 3,
   "metadata": {},
   "outputs": [],
   "source": [
    "\n",
    "#operador de difusao de Groover\n",
    "def bloco_groover (psi, qubits, resposta):\n",
    "    \n",
    "    #oraculo##################################################\n",
    "    psi[resposta]=-psi[resposta]  #muda o sinal da amplitude da resposta correta\n",
    "    \n",
    "    #operador de difusao de groover###########################\n",
    "    #loop para fazer hadamard em todos os qubits\n",
    "    count=1\n",
    "    while count <= qubits:    \n",
    "        psi=hadamard(psi, count, qubits) #hadamard em todos os qubits\n",
    "        count = count + 1\n",
    "        \n",
    "    #Operador J (matriz identidade com primeiro elemento da diagonal -1)\n",
    "    psi[0]=-psi[0] \n",
    "    \n",
    "    #hadamard em todos os qubits de novo\n",
    "    count=1\n",
    "    while count <= qubits:\n",
    "        psi=hadamard(psi, count, qubits)\n",
    "        count = count + 1\n",
    "    return psi"
   ]
  },
  {
   "cell_type": "markdown",
   "metadata": {},
   "source": [
    "O oráculo quântico é dado por uma matriz identidade para operar o número desejado de qubits com o 1 equivalente à resposta com o sinal invertido. Exemplo para dois qubits e com a resposta como estado $|10\\rangle$:\n",
    "$$\n",
    "   O=\\begin{pmatrix}\n",
    "    1 & 0 & 0 & 0\\\\\n",
    "    0 & 1 & 0 & 0\\\\\n",
    "    0 & 0 & -1 & 0\\\\\n",
    "    0 & 0 & 0 & 1\n",
    "    \\end{pmatrix}$$\n",
    "\n",
    "O oráculo é um operador quântico pois é uma matriz unitária (cuja conjugada hermitiana é a inversa da mesma) e ele inverte o sinal apenas do componente equivalente a resposta. Logo se a resposta procurada for $|10\\rangle$ o oráculo dela é $O|10\\rangle=-|10\\rangle$. Enquanto o oraculo de outro estado conserva a amplitude dele. E de uma função psi com quatro estados possíveis é $O|\\Psi\\rangle = O(a|00\\rangle+b|01\\rangle+c|10\\rangle+d|11\\rangle)=a|00\\rangle+b|01\\rangle-c|10\\rangle+d|11\\rangle$\n",
    "\n",
    "O resto do circuito é o operador de difusão de Groover. Ele que faz com que a alteração do oráculo no estado do registrador quântico seja mensurável. Ele consiste de portões de Hadamard em todos os qubits seguidos de um operador $J$ que inverte o sinal do estado de $|00\\rangle$ da mesma maneira que o oráculo mas sempre nesse estado seguido de mais portôes de Hadamard em todos os qubits. O oráculo mais o operador de difusão devem ser repetidos $(\\pi/4)\\sqrt{2^N}$ vezes arrendodado para um inteiro onde N é o número de qubits. Para três qubits que usaremos isso resulta em $2.22$ arredondado para 2 blocos.\n",
    "\n",
    "![title](img/proj3.png)\n",
    "\n",
    "Logo para 3 qubits o nosso circuito de computação quântica ficará assim:\n",
    "$(H^{(1, 2, 3)} J H^{(1, 2, 3)} O)^2 H^{(1, 2, 3)}|000\\rangle$ \n",
    "Abaixo temos o código que executa essa operação. Nota-se que obtemos muito mais que 90% de chance de obter o como resultado a nossa resposta no caso o número 6, $|110\\rangle$ em binário. Assim como para outros valores e com número de blocos de difusão diferentes."
   ]
  },
  {
   "cell_type": "code",
   "execution_count": 8,
   "metadata": {},
   "outputs": [
    {
     "name": "stdout",
     "output_type": "stream",
     "text": [
      "[-0.0883883476483183, -0.0883883476483183, -0.0883883476483183, -0.0883883476483183, -0.0883883476483184, -0.0883883476483183, 0.972271824131501, -0.0883883476483183]\n"
     ]
    },
    {
     "data": {
      "image/png": "[encoded data removed]",
      "text/plain": [
       "<matplotlib.figure.Figure at 0x7f317d536d50>"
      ]
     },
     "metadata": {
      "needs_background": "light"
     },
     "output_type": "display_data"
    }
   ],
   "source": [
    "Psi=[1,0,0,0,0,0,0,0]\n",
    "\n",
    "count=1\n",
    "while count <= 3:    #passa o loop pelo vetor psi\n",
    "    Psi=hadamard(Psi, count, 3) #hadamard em todos os qubits\n",
    "    count = count + 1\n",
    "\n",
    "resposta=6\n",
    "\n",
    "#blocos do operador de difusao de groover\n",
    "Psi=bloco_groover(Psi, 3, resposta)\n",
    "Psi=bloco_groover(Psi, 3, resposta)\n",
    "\n",
    "print(Psi)\n",
    "medir_n(Psi, 1000, 3)"
   ]
  },
  {
   "cell_type": "code",
   "execution_count": 250,
   "metadata": {},
   "outputs": [
    {
     "name": "stdout",
     "output_type": "stream",
     "text": [
      "[-0.0883883476483183, -0.0883883476483184, -0.0883883476483183, 0.972271824131501, -0.0883883476483183, -0.0883883476483183, -0.0883883476483183, -0.0883883476483183]\n"
     ]
    },
    {
     "data": {
      "image/png": "[encoded data removed]",
      "text/plain": [
       "<matplotlib.figure.Figure at 0x7f42e10f4510>"
      ]
     },
     "metadata": {
      "needs_background": "light"
     },
     "output_type": "display_data"
    }
   ],
   "source": [
    "Psi=[1,0,0,0,0,0,0,0]\n",
    "\n",
    "count=1\n",
    "while count <= 3:    #passa o loop pelo vetor psi\n",
    "    Psi=hadamard(Psi, count, 3) #hadamard em todos os qubits\n",
    "    count = count + 1\n",
    "\n",
    "resposta=3\n",
    "    \n",
    "    \n",
    "#blocos do operador de difusao de groover\n",
    "Psi=bloco_groover(Psi, 3, resposta)\n",
    "Psi=bloco_groover(Psi, 3, resposta)\n",
    "\n",
    "print(Psi)\n",
    "medir_n(Psi, 1000, 3)"
   ]
  },
  {
   "cell_type": "code",
   "execution_count": 251,
   "metadata": {},
   "outputs": [
    {
     "name": "stdout",
     "output_type": "stream",
     "text": [
      "[-0.176776695296637, -0.176776695296637, -0.883883476483184, -0.176776695296637, -0.176776695296637, -0.176776695296637, -0.176776695296637, -0.176776695296637]\n"
     ]
    },
    {
     "data": {
      "image/png": "[encoded data removed]",
      "text/plain": [
       "<matplotlib.figure.Figure at 0x7f42e1114250>"
      ]
     },
     "metadata": {
      "needs_background": "light"
     },
     "output_type": "display_data"
    }
   ],
   "source": [
    "Psi=[1,0,0,0,0,0,0,0]\n",
    "\n",
    "count=1\n",
    "while count <= 3:    #passa o loop pelo vetor psi\n",
    "    Psi=hadamard(Psi, count, 3) #hadamard em todos os qubits\n",
    "    count = count + 1\n",
    "\n",
    "resposta=2\n",
    "    \n",
    "    \n",
    "#blocos do operador de difusao de groover\n",
    "Psi=bloco_groover(Psi, 3, resposta)\n",
    "\n",
    "print(Psi)\n",
    "medir_n(Psi, 1000, 3)"
   ]
  },
  {
   "cell_type": "code",
   "execution_count": 252,
   "metadata": {},
   "outputs": [
    {
     "name": "stdout",
     "output_type": "stream",
     "text": [
      "[0.309359216769114, 0.309359216769114, 0.309359216769114, 0.309359216769114, 0.309359216769114, 0.309359216769114, 0.309359216769114, -0.574524259714069]\n"
     ]
    },
    {
     "data": {
      "image/png": "[encoded data removed]",
      "text/plain": [
       "<matplotlib.figure.Figure at 0x7f42e0fe8c50>"
      ]
     },
     "metadata": {
      "needs_background": "light"
     },
     "output_type": "display_data"
    }
   ],
   "source": [
    "Psi=[1,0,0,0,0,0,0,0]\n",
    "\n",
    "count=1\n",
    "while count <= 3:    #passa o loop pelo vetor psi\n",
    "    Psi=hadamard(Psi, count, 3) #hadamard em todos os qubits\n",
    "    count = count + 1\n",
    "\n",
    "resposta=7\n",
    "    \n",
    "    \n",
    "#blocos do operador de difusao de groover\n",
    "Psi=bloco_groover(Psi, 3, resposta)\n",
    "Psi=bloco_groover(Psi, 3, resposta)\n",
    "Psi=bloco_groover(Psi, 3, resposta)\n",
    "\n",
    "print(Psi)\n",
    "medir_n(Psi, 1000, 3)"
   ]
  },
  {
   "cell_type": "markdown",
   "metadata": {},
   "source": [
    "***\n",
    "# Projeto 4\n",
    "Portões CNOT. Portões CNOT são portas quânticas NOT (ou NÃO) controladas e funcionam da seguinte maneira: Há um qubit controlador e um qubit que sofre a operação NOT. Se e somente se o qubit controlador é $|1\\rangle$ que o outro qubit é invertido de $|1\\rangle$ para $|0\\rangle$ ou de $|0\\rangle$ para $|1\\rangle$. Se o controlador for $|0\\rangle$ o controlado mantém o seu estado. O qubit controlador não é alterado."
   ]
  },
  {
   "cell_type": "code",
   "execution_count": 12,
   "metadata": {},
   "outputs": [],
   "source": [
    "#cnot de 3 quibts com o qubit 2 como controlador\n",
    "def cnot3(psi, qubit_negado):\n",
    "    #matriz e produto tensorial se o bit negado for o 1\n",
    "    if qubit_negado == 1:\n",
    "        cnotm2= Matrix([[1, 0, 0, 0], #matriz de 2 qubits onde primeiro controla o posterior\n",
    "    [0, 0, 0, 1],\n",
    "    [0, 0, 1, 0],\n",
    "    [0, 1, 0, 0]])\n",
    "        cnot=TensorProduct(cnotm2, eye(2))#produto tensorial para operar 3 qubits\n",
    "        \n",
    "    #matriz e produto tensorial se o bit negado for o 3\n",
    "    else:\n",
    "        cnotm2= Matrix([[1, 0, 0, 0], #matriz de 2 qubits onde um qubit controla o anterior\n",
    "    [0, 1, 0, 0],\n",
    "    [0, 0, 0, 1],\n",
    "    [0, 0, 1, 0]])\n",
    "        cnot=TensorProduct(eye(2), cnotm2)#produto tensorial para operar 3 qubits\n",
    "    \n",
    "    psi=np.matrix(psi)  #para poder multiplicar o vetor de estado pelo operador\n",
    "    \n",
    "    psi=psi*cnot       #opera a multiplicacao de matrizes\n",
    "    \n",
    "    return psi.tolist()[0] #transforma a matriz de volta em lista\n",
    "    \n"
   ]
  },
  {
   "cell_type": "markdown",
   "metadata": {},
   "source": [
    "## 1-Emaranhamento quântico\n",
    "\n",
    "Com a porta CNOT podemos emaranhar dois ou mais qubits fazendo com que haja uma correlação nas medidas deles. No caso sempre que medirmos $|1\\rangle$ no qubit 2 sempre mediremos $|1\\rangle$ no qubit 3 e o mesmo para zero.\n",
    "\n",
    "O circuito é dado por $C_{NOT}^{(2,3)}H^{(2)}|000\\rangle$ Onde $C_{NOT}^{(2,3)}$ é um CNOT contolado pelo qubit 2 no qubit 3.\n",
    "\n",
    "![title](img/proj5c1.png)"
   ]
  },
  {
   "cell_type": "code",
   "execution_count": 12,
   "metadata": {},
   "outputs": [
    {
     "name": "stdout",
     "output_type": "stream",
     "text": [
      "[0.707106781186547, 0, 0, 0.707106781186547, 0, 0, 0, 0]\n"
     ]
    },
    {
     "data": {
      "image/png": "[encoded data removed]",
      "text/plain": [
       "<matplotlib.figure.Figure at 0x7f317ca0d890>"
      ]
     },
     "metadata": {
      "needs_background": "light"
     },
     "output_type": "display_data"
    }
   ],
   "source": [
    "Psi=[0]*8\n",
    "seta_base(Psi,0)\n",
    "\n",
    "#hadamard no segundo qubit para coloca-lo numa superposição\n",
    "Psi=hadamard(Psi, 2, 3)  \n",
    "#CNOT para emaranhar os qubits\n",
    "Psi=cnot3(Psi, 3)\n",
    "\n",
    "print(Psi)\n",
    "medir_n(Psi, 1000, 3)"
   ]
  },
  {
   "cell_type": "markdown",
   "metadata": {},
   "source": [
    "Note como o qubit 1 sempre é zero pois estava em $|0\\rangle$ e o segundo e terceiro qubit sempre são iguais. Além disso as probabilidades são de $0.5$ pois o segundo qubit que é o controlador estava em superposição com um portão de Hadamard."
   ]
  },
  {
   "cell_type": "markdown",
   "metadata": {},
   "source": [
    "## 2-Estado de gato\n",
    "Aqui usamos as portas CNOT para colocar o registrador quântico no estado de gato a partir do estado base $|000\\rangle$. Que é metade de chance de estar zerado completamente ou metade com todos os qubits em 1. Ou $|\\Psi\\rangle = \\frac{1}{\\sqrt{2}}|000\\rangle + \\frac{1}{\\sqrt{2}}|111\\rangle$ como já explicado no primeiro projeto.\n",
    "O circuito é colocado em notação de Dirac da seguinte maneira:\n",
    "$C_{NOT}^{(2,1)} C_{NOT}^{(2,3)}H^{(2)}|000\\rangle$\n",
    "Nesse caso os três qubits estão emaranhados.\n",
    "\n",
    "![title](img/proj5c2.png)"
   ]
  },
  {
   "cell_type": "code",
   "execution_count": null,
   "metadata": {},
   "outputs": [],
   "source": [
    "Psi=[0]*8\n",
    "seta_base(Psi,0)\n",
    "\n",
    "#hadamard no segundo qubit para coloca-lo numa superposição\n",
    "Psi=hadamard(Psi, 2, 3)  \n",
    "#CNOTs para emaranhar os qubits\n",
    "Psi=cnot3(Psi, 3)\n",
    "Psi=cnot3(Psi, 1)\n",
    "\n",
    "print(Psi)\n",
    "medir_n(Psi, 1000, 3)"
   ]
  },
  {
   "cell_type": "markdown",
   "metadata": {},
   "source": [
    "## 3-Superposição observada\n",
    "Aqui usaremos os portões CNOT para demostrar o fenomeno quântico de uma superposição colapsar quando é observada. Usamos um portão de Hadamard para colocar o qubit em uma superposição e outro para fazê-lo voltar ao seu estado original ou seja $|000\\rangle$. No entanto na segunda vez que executamos o experimento colocamos uma porta CNOT entre os Hadamards para que o qubit 3 mude de estado dependendo de \"qual estado o qubit 2 estaria na superposição\".\n",
    "\n",
    "\n",
    "![title](img/proj5c3.png)"
   ]
  },
  {
   "cell_type": "code",
   "execution_count": 22,
   "metadata": {},
   "outputs": [
    {
     "name": "stdout",
     "output_type": "stream",
     "text": [
      "[0.707106781186547, 0, 0.707106781186547, 0, 0, 0, 0, 0]\n",
      "[1.00000000000000, 0, 0, 0, 0, 0, 0, 0]\n"
     ]
    },
    {
     "data": {
      "image/png": "[encoded data removed]",
      "text/plain": [
       "<matplotlib.figure.Figure at 0x7f317e052450>"
      ]
     },
     "metadata": {
      "needs_background": "light"
     },
     "output_type": "display_data"
    }
   ],
   "source": [
    "Psi=[0]*8\n",
    "seta_base(Psi,0)\n",
    "\n",
    "#hadamard no segundo qubit para coloca-lo numa superposição\n",
    "Psi=hadamard(Psi, 2, 3)  \n",
    "print(Psi)\n",
    "#qubit emaranhado\n",
    "\n",
    "Psi=hadamard(Psi, 2, 3) \n",
    "#qubit de volta ao estado original\n",
    "print(Psi)\n",
    "medir_n(Psi, 100, 3)"
   ]
  },
  {
   "cell_type": "markdown",
   "metadata": {},
   "source": [
    "Agora observamos o estado da superposição.\n",
    "\n",
    "![title](img/proj5c4.png)"
   ]
  },
  {
   "cell_type": "code",
   "execution_count": 260,
   "metadata": {},
   "outputs": [
    {
     "name": "stdout",
     "output_type": "stream",
     "text": [
      "[0.707106781186547, 0, 0.707106781186547, 0, 0, 0, 0, 0]\n",
      "[0.707106781186547, 0, 0, 0.707106781186547, 0, 0, 0, 0]\n",
      "[0.500000000000000, 0.500000000000000, 0.500000000000000, -0.500000000000000, 0, 0, 0, 0]\n"
     ]
    },
    {
     "data": {
      "image/png": "[encoded data removed]",
      "text/plain": [
       "<matplotlib.figure.Figure at 0x7f42e0e9a150>"
      ]
     },
     "metadata": {
      "needs_background": "light"
     },
     "output_type": "display_data"
    }
   ],
   "source": [
    "seta_base(Psi,0)\n",
    "\n",
    "#hadamard no segundo qubit para coloca-lo numa superposição\n",
    "Psi=hadamard(Psi, 2, 3)  \n",
    "print(Psi)\n",
    "\n",
    "#CNOT para 'observar' o qubit\n",
    "Psi=cnot3(Psi, 3)\n",
    "print(Psi)\n",
    "\n",
    "#qubit de volta ao estado original\n",
    "Psi=hadamard(Psi, 2, 3) \n",
    "print(Psi)\n",
    "medir_n(Psi, 1000, 3)"
   ]
  },
  {
   "cell_type": "markdown",
   "metadata": {},
   "source": [
    "Ao invès de voltarmos ao estado original os 2 qubits entraram em um estado de superposição sem corelação entre eles demostrando que a observação de um estado de superposição destroí a mesma."
   ]
  },
  {
   "cell_type": "markdown",
   "metadata": {},
   "source": [
    "***\n",
    "# Projeto 5 e 6\n",
    "Nesses projetos refazeremos o algoritmo de Groover mas aumentando o número de qubits até atinjir a capacidade máxima do meu computador. No projeto 6 usaremos matrizes exparsas para aumentar essa capacidade.  "
   ]
  },
  {
   "cell_type": "code",
   "execution_count": 7,
   "metadata": {},
   "outputs": [
    {
     "name": "stdout",
     "output_type": "stream",
     "text": [
      "done\n"
     ]
    }
   ],
   "source": [
    "qubits=5\n",
    "resposta=7\n",
    "Psi=[0]*2**qubits\n",
    "seta_base(Psi,0)\n",
    "count=1\n",
    "while count <= qubits:    #passa o loop pelo vetor psi\n",
    "    Psi=hadamard(Psi, count, qubits) #hadamard em todos os qubits\n",
    "    count = count + 1\n",
    "\n",
    "#blocos do operador de difusao de groover\n",
    "count=1\n",
    "while count <= round(math.pi/4*math.sqrt(2**qubits)):    #passa o loop pelo vetor psi\n",
    "    Psi=bloco_groover(Psi, qubits, resposta)\n",
    "    count = count + 1\n",
    "\n",
    "print(\"done\")\n",
    "#medir_n(Psi, 10, qubits)"
   ]
  },
  {
   "cell_type": "markdown",
   "metadata": {},
   "source": [
    "Tabela dos tempos de execução (user time) em um computador linux Ubuntu Intel® Core™ i5-4210U CPU @ 1.70GHz × 4 do código acima implementado num arquivo com as declarações das funções de Hadamard e as outras até agora utilizadas:\n",
    "\n",
    "\n",
    "\n",
    "|qubits | tempo|\n",
    "|-------|------|\n",
    "|1 | 1.20s|\n",
    "|2 | 1.15s|\n",
    "|3 | 1.36s|\n",
    "|4 | 3.51s|\n",
    "|5 | 29.33s|\n",
    "|6 | 353.69s|\n",
    "\n",
    "O comando abaixo foi utilizado para aferir os tempos:\n",
    "\n",
    "_\\time -v python projeto5.py_\n",
    "\n",
    "Vemos a partir da tabela que o tempo de execução cresce exponencialmente de acordo com as matrizes que precisamos para simular os qubits e têm tamanho $2^{N}$. Vemos também que há um overhead que no caso é a parte do tempo de execução que não aumenta com o número de qubits como por exemplo o tempo para carregar as funções na memória. Ele tem aproximandamente 1s pois o tempo de execuçaõ para 1 qubit até 3 qubits é semelhante.\n",
    "\n",
    "Se meu código alocasse as matrizes das portas de início na memória e as reutiliza-se, pois há portas de Hadamard repetidas inúmeras vezes, seria muito mais eficiente. Com um pouco de perdas na simplicidade do mesmo. Outro modo de aumentar a eficiência além de poupar o uso de memória é usando matrizes exparsas. Fazendo com que não seja necessário armazenar e fazer contas com os zeros das matrizes que ocupam grande parte delas no nosso caso. Uma matriz de uma porta de hadamard em 1 qubit tem apenas dois elementos diferentes de zero por linha. Em uma matriz para operar 7 qubits por exemplo isso são $2/2^7=1/2^6=1/64$ elementos não nulos para cada zero na matriz o que é uma baixissima densidade. Essa densidade só diminui com o número de qubits.\n"
   ]
  },
  {
   "cell_type": "markdown",
   "metadata": {},
   "source": [
    "## Projeto 6 - matrizes exparsas\n",
    "\n",
    "Foi utilizado o seguinte código para implementar as matrizes exparsas num arquivo que pudesse ser usado com o comando:\n",
    "\n",
    "_\\time -v python projeto6.py_"
   ]
  },
  {
   "cell_type": "code",
   "execution_count": 8,
   "metadata": {},
   "outputs": [],
   "source": [
    "import math \n",
    "import cmath\n",
    "import scipy.sparse as scp\n",
    "\n",
    "\n",
    "def sp_tensorNqubits(portao, alvo, qubits): #muda o portao de 1 bit para um de N qubits no alvo a escolha\n",
    "    i=0\n",
    "    alvo=alvo-1\n",
    "    while i < alvo: #faz produtos tensoriais para os qubits anteriores ao alvo\n",
    "        portao=scp.kron(scp.eye(2), portao) \n",
    "        i = i + 1\n",
    "    i=0\n",
    "    while i < qubits - alvo - 1: #faz produtos tensoriais para os qubits posteriores ao alvo\n",
    "        portao=scp.kron(portao, scp.eye(2)) \n",
    "        i = i + 1\n",
    "    return portao \n",
    "\n",
    "#aplica o operador de hadamard no qubit alvo de Psi\n",
    "def sp_hadamard(Psi, alvo, qubits):\n",
    "    \n",
    "    h1q=scp.csr_matrix( #faz uma matriz 2x2 portao de hadamard para 1 qubit\n",
    "   [[1, 1],\n",
    "     [1, -1]])\n",
    "\n",
    "    had=sp_tensorNqubits(h1q, alvo, qubits)\n",
    "    \n",
    "    psi=scp.csr_matrix(Psi)  #para poder multiplicar o vetor de estado pelo operador\n",
    "    \n",
    "    a=1/math.sqrt(2)\n",
    "    psi=psi*had*a         #opera a multiplicacao de matrizes mais o fator a que normaliza a matriz do portao de hadamard\n",
    "    return psi #transforma a matriz de volta em lista\n",
    "\n",
    "#retorna o estado Psi com o portao de mundanca de fase aplicado no qubit alvo\n",
    "\n",
    "\n",
    "\n",
    "#operador de difusao de Groover\n",
    "def sp_bloco_groover (psi, qubits, resposta):\n",
    "    \n",
    "    #oraculo##################################################\n",
    "    psi[0, resposta]=-psi[0, resposta]  #muda o sinal da amplitude da resposta correta\n",
    "    \n",
    "    #operador de difusao de groover###########################\n",
    "    #loop para fazer hadamard em todos os qubits\n",
    "    count=1\n",
    "    while count <= qubits:    \n",
    "        psi=sp_hadamard(psi, count, qubits) #hadamard em todos os qubits\n",
    "        count = count + 1\n",
    "        \n",
    "    #Operador J (matriz identidade com primeiro elemento da diagonal -1)\n",
    "    psi[0,0]=-psi[0, 0] \n",
    "    \n",
    "    #hadamard em todos os qubits de novo\n",
    "    count=1\n",
    "    while count <= qubits:\n",
    "        psi=sp_hadamard(psi, count, qubits)\n",
    "        count = count + 1\n",
    "    return psi\n",
    "\n",
    "\n",
    "\n"
   ]
  },
  {
   "cell_type": "code",
   "execution_count": 8,
   "metadata": {},
   "outputs": [
    {
     "name": "stdin",
     "output_type": "stream",
     "text": [
      " 4\n"
     ]
    },
    {
     "name": "stdout",
     "output_type": "stream",
     "text": [
      "  (0, 7)\t0.05078125\n",
      "  (0, 6)\t0.05078125\n",
      "  (0, 5)\t0.05078125\n",
      "  (0, 4)\t0.05078125\n",
      "  (0, 3)\t0.05078125\n",
      "  (0, 2)\t0.05078125\n",
      "  (0, 1)\t-0.98046875\n",
      "  (0, 0)\t0.05078125\n",
      "  (0, 15)\t0.05078125\n",
      "  (0, 14)\t0.05078125\n",
      "  (0, 13)\t0.05078125\n",
      "  (0, 12)\t0.05078125\n",
      "  (0, 11)\t0.05078125\n",
      "  (0, 10)\t0.05078125\n",
      "  (0, 9)\t0.05078125\n",
      "  (0, 8)\t0.05078125\n",
      "done\n"
     ]
    }
   ],
   "source": [
    "\n",
    "qubits=input()\n",
    "resposta=1\n",
    "\n",
    "Psi=[0]*2**qubits\n",
    "Psi[0]=1\n",
    "\n",
    "count=1\n",
    "while count <= qubits:    #passa o loop pelo vetor psi\n",
    "        Psi=sp_hadamard(Psi, count, qubits) #hadamard em todos os qubits\n",
    "        count = count + 1\n",
    "\n",
    "#blocos do operador de difusao de groover\n",
    "count=1\n",
    "while count <= round(math.pi/4*math.sqrt(2**qubits)):    #passa o loop pelo vetor psi\n",
    "        Psi=sp_bloco_groover(Psi, qubits, resposta)\n",
    "        count = count + 1\n",
    "print(Psi)\n",
    "print(\"done\")\n",
    "\n"
   ]
  },
  {
   "cell_type": "markdown",
   "metadata": {},
   "source": [
    "Verificamos um ganho enorme na eficiência do algoritmo com o uso desse recurso, conseguimos um tempo de execução semelhante para o dobro de qubits:\n",
    "\n",
    "|qubits | tempo|\n",
    "|-------|------|\n",
    "|1 | 0.86s|\n",
    "|2 | 0.92s|\n",
    "|3 | 0.91s|\n",
    "|4 | 0.97s|\n",
    "|5 | 1.04s|\n",
    "|6 | 1.16s|\n",
    "|7 | 1.42s|\n",
    "|8 | 2.16s|\n",
    "|9 | 5.06s|\n",
    "|10 | 19.40s|\n",
    "|11 | 105.38s|\n",
    "|12 | 626.17s|"
   ]
  },
  {
   "cell_type": "markdown",
   "metadata": {},
   "source": [
    "# Projeto 7\n",
    "Nesse projeto veremos como executar o algoritmo de Shor em 7 qubits. O algoritmo de Shor obtem um dos fatores de um número não primo e um dos seus passos é acelerado se executado em um computador quântico. Utilizarei matrizes exparsas já de início por serem mais apropriadas."
   ]
  },
  {
   "cell_type": "code",
   "execution_count": 242,
   "metadata": {},
   "outputs": [],
   "source": [
    "#verifica se o qubit é 1 ou 0 para a coluna/linha da matriz onde bit e do menos significativo para o mais comecando por 1\n",
    "def checa_bit(numero, bit):\n",
    "    return ((numero) % ( 2**(bit+1) ) ) / ( 2**(bit) )\n",
    "\n",
    "#aplica uma mudanca de fase no qubit alvo controlada pelo qubit controlador\n",
    "def sp_Cfase(Psi, alvo, controlador, qubits, fase):\n",
    "\n",
    "    tamanho = 2**qubits\n",
    "    \n",
    "    #inverte o alvo e controlador pois o qubit 1 que e o mais significativo e assim por diante\n",
    "    alvo=qubits-alvo\n",
    "    controlador=qubits-controlador\n",
    "    \n",
    "    psi=scp.csr_matrix(Psi)  #para poder multiplicar o vetor de estado pelo operador\n",
    "\n",
    "    \n",
    "    Cfase=scp.eye(tamanho) #cria matriz diagonal para o numero de qubits\n",
    "    \n",
    "    Cfase=scp.csr_matrix(Cfase, dtype = complex)\n",
    "    \n",
    "    #i comeca no 3 porque o zero um e dois nunca vão ser alvos por terem só 1 ou menos bits\n",
    "    i = 1\n",
    "    #como a mudanca de fase controlada e uma matriz identidade com e^theta*in nos lugares onde o alvo e o controlador estao no estado 1 na base usamos o loop a seguir que \n",
    "    while (i <= tamanho): # loop que varre a diagonal da matriz \n",
    "        if  checa_bit(i, alvo) == 1: #ve se o digito binario do qubit alvo e 1\n",
    "            if  checa_bit(i, controlador) == 1: #ve se o digito binario do quubit controlador e 1\n",
    "                Cfase[i, i]=cmath.exp( complex(0, fase) ) #elemento da diagonal diferente de 1\n",
    "        i = i + 1\n",
    "                \n",
    "    psi=psi*Cfase    #opera a multiplicacao de matrizes   return psi bit alvo\n",
    "    \n",
    "    return psi\n",
    "\n",
    "#faz a multiplicacao de fx no algoritmo de shor controlado por um qubit de L (o qubit controlador e dado do menos significativo para o mais) \n",
    "def shor_fx(psi, controlador, a, C, L, M):\n",
    "    #tamanho total do vetor do registrador quantico\n",
    "    tamanho = 2**(L + M)\n",
    "    \n",
    "    i=0\n",
    "    \n",
    "    #matriz controlada que multiplica por a mod c\n",
    "    #cria matriz exparsa vazia quadrada com o tamanho do operador , dtype = complex\n",
    "    xamodc = scp.csr_matrix((tamanho, tamanho))\n",
    "    \n",
    "    #percorre as colunas da matriz\n",
    "    while i < tamanho:\n",
    "        #print (\"i=\", i)\n",
    "        \n",
    "        #verifica se o bit controlador e 1\n",
    "        if checa_bit(i, controlador+M-1) == 1:\n",
    "            #x entrada que sera multiplicada do operador \n",
    "            f = (i % (2**(M)))\n",
    "            #print (\"fs=\", x)\n",
    "            \n",
    "            #verifica se o x de entrada no operador e menor que C\n",
    "            if f < C:\n",
    "                #calcula fx\n",
    "                flinha= (a * f) % C\n",
    "                #print (\"f\\''=\", fx)\n",
    "                \n",
    "                #muda fx para a linha que se quer usar, ie adiciona a parte de L\n",
    "                flinha = flinha + ( (i/(2**M)) * 2**M )\n",
    "                #print (\"coluna=\", flinha)\n",
    "        \n",
    "                #preenche o elemento da matriz correspondente\n",
    "                xamodc[flinha, i]=1\n",
    "                #print (i, f, flinha)\n",
    "            \n",
    "            else:\n",
    "                xamodc[i,i]=1\n",
    "        else:\n",
    "            xamodc[i,i]=1\n",
    "            \n",
    "        i = i + 1\n",
    "    #usei os kets como vetores horizontais multiplicados pelo operador pela direita como esse operador\n",
    "    #nao e simetrico havera erros se eu aproveitar o algoritmo do artigo que usei de guia \n",
    "    #por isso a transposta da matriz do operador\n",
    "    xamodc=scp.csr_matrix.transpose(xamodc)\n",
    "    \n",
    "    \n",
    "    psi=scp.csr_matrix(psi)\n",
    "     \n",
    "    \n",
    "    psi=psi* xamodc \n",
    "    \n",
    "    return psi"
   ]
  },
  {
   "cell_type": "code",
   "execution_count": null,
   "metadata": {},
   "outputs": [],
   "source": []
  },
  {
   "cell_type": "markdown",
   "metadata": {},
   "source": [
    "## Mundança de fase controlada\n",
    "\n",
    "Esse portão é como o Cnot só que ao invés de inverter o valor dod qubit ele funciona como o portão de mudança de fase. Aqui pegamos um registrador quântico com superposição de todos os estados e aplicamos uma mudança controlada pelo 4 qubit no primeiro qubit:"
   ]
  },
  {
   "cell_type": "code",
   "execution_count": 249,
   "metadata": {},
   "outputs": [
    {
     "name": "stdout",
     "output_type": "stream",
     "text": [
      "[ 0.35355339+0.j    0.35355339+0.j    0.35355339+0.j    0.35355339+0.j\n",
      "  0.35355339+0.j    0.25000000+0.25j  0.35355339+0.j    0.25000000+0.25j]\n"
     ]
    }
   ],
   "source": [
    "qubits=3\n",
    "a=1/math.sqrt(2**qubits)\n",
    "Psi=[a]*(2**qubits)\n",
    "\n",
    "#seta_base(Psi,1)\n",
    "psi=sp_Cfase(Psi, 1, 3, qubits, math.pi/4)\n",
    "\n",
    "psi=psi.toarray()[0]\n",
    "\n",
    "print psi"
   ]
  },
  {
   "cell_type": "markdown",
   "metadata": {},
   "source": [
    "## Porta quântica que computa $f(x)$\n",
    "Essa porta serve para computar o valor de $f(x)$ que é dado por $a^{p}mod C$ nos qubits M do registrador quântico. Onde p é dado pelos qubits L. A funçao funciona através de uma matriz de permutação que muda o valor\n",
    "\n",
    "Esses são os valores possíveis para a com um registrador de 7 qubits e $C=15$\n",
    "\n",
    "|a |f(x) possíveis |\n",
    "|-------|------|\n",
    "|2 | 1, 2, 4, 8|\n",
    "|4 | 1, 4 |\n",
    "|7 | 1, 7, 4, 13|\n",
    "|8 | 1, 8, 4, 2|\n",
    "|11 | 1, 11|\n",
    "|13 | 1, 13, 4, 7|\n",
    "|14 | 1, 14|\n",
    "\n",
    "O valor das saídas corresponde a esses valores de $f(x)$ somados dos bits de M que são mantidos pelo operador. No git há uma planilha onde podem ser encontrados os valores das saídas possíveis que foram utilizados nos testes do operador.\n"
   ]
  },
  {
   "cell_type": "code",
   "execution_count": 256,
   "metadata": {},
   "outputs": [
    {
     "name": "stdout",
     "output_type": "stream",
     "text": [
      "  (0, 126)\t113.0\n",
      "  (0, 97)\t97.0\n",
      "  (0, 94)\t81.0\n",
      "  (0, 65)\t65.0\n",
      "  (0, 62)\t49.0\n",
      "  (0, 33)\t33.0\n",
      "  (0, 30)\t17.0\n"
     ]
    }
   ],
   "source": [
    "qubits=7\n",
    "psi=[0]*(2**qubits)\n",
    "\n",
    "a=14\n",
    "\n",
    "#psi de entrada. Todos tem M=0001 o que varia e o L que vai de 0(000) ate 7(111)\n",
    "# o conteudo do vetor nao sao amplitudes de probabilidade mas o valor da posicao inicial do vetor \n",
    "#para ilustrar melhor o funcionamento da funcao\n",
    "psi[17]=17\n",
    "psi[33]=33\n",
    "psi[49]=49\n",
    "psi[65]=65\n",
    "psi[81]=81\n",
    "psi[97]=97\n",
    "psi[113]=113\n",
    "\n",
    "#essa parte faz a conta: (a^1*entrada)mod 15\n",
    "psi=shor_fx(psi, 1, a, 15, 3, 4)\n",
    "\n",
    "#essa parte faz a conta: (a^2*entrada)mod 15\n",
    "psi=shor_fx(psi, 2, a**2, 15, 3, 4)\n",
    "\n",
    "#essa parte faz a conta: (a^4*entrada)mod 15\n",
    "psi=shor_fx(psi, 3, a**4, 15, 3, 4)\n",
    "\n",
    "\n",
    "print psi\n"
   ]
  },
  {
   "cell_type": "markdown",
   "metadata": {},
   "source": [
    "## Exemplo de execução da parte quântica do algoritmo de Shor\n",
    "\n",
    "Utilizei 7 qubits e C=15\n",
    "\n",
    "![title](img/proj7.png)\n",
    "\n",
    "'$a$'s possíveis: 2, 4, 7, 8, 11, 13, 14\n",
    "\n"
   ]
  },
  {
   "cell_type": "code",
   "execution_count": 296,
   "metadata": {},
   "outputs": [
    {
     "name": "stdout",
     "output_type": "stream",
     "text": [
      "qubits L em superposição\n",
      "  (0, 113)\t0.353553390593\n",
      "  (0, 97)\t0.353553390593\n",
      "  (0, 81)\t0.353553390593\n",
      "  (0, 65)\t0.353553390593\n",
      "  (0, 49)\t0.353553390593\n",
      "  (0, 33)\t0.353553390593\n",
      "  (0, 17)\t0.353553390593\n",
      "  (0, 1)\t0.353553390593\n",
      "-------------------------\n",
      "matrizes de permutação aplicadas para econtrar f(x)\n",
      "  (0, 1)\t0.353553390593\n",
      "  (0, 23)\t0.353553390593\n",
      "  (0, 36)\t0.353553390593\n",
      "  (0, 61)\t0.353553390593\n",
      "  (0, 65)\t0.353553390593\n",
      "  (0, 87)\t0.353553390593\n",
      "  (0, 100)\t0.353553390593\n",
      "  (0, 125)\t0.353553390593\n",
      "-------------------------\n",
      "transformada de fourier quântica inversa aplicada para encontrar o período da função\n",
      "  (0, 125)\t(-1.53080849893e-17-0.25j)\n",
      "  (0, 119)\t(1.53080849893e-17+0.25j)\n",
      "  (0, 100)\t(-0.25+0j)\n",
      "  (0, 97)\t(0.25+0j)\n",
      "  (0, 93)\t(0.25+0j)\n",
      "  (0, 87)\t(0.25+0j)\n",
      "  (0, 68)\t(0.25+0j)\n",
      "  (0, 65)\t(0.25+0j)\n",
      "  (0, 61)\t(-1.53080849893e-17-0.25j)\n",
      "  (0, 55)\t(1.53080849893e-17+0.25j)\n",
      "  (0, 36)\t(-0.25+0j)\n",
      "  (0, 33)\t(0.25+0j)\n",
      "  (0, 29)\t(0.25+0j)\n",
      "  (0, 23)\t(0.25+0j)\n",
      "  (0, 4)\t(0.25+0j)\n",
      "  (0, 1)\t(0.25+0j)\n"
     ]
    }
   ],
   "source": [
    "qubits=7\n",
    "a=7\n",
    "\n",
    "#psi comeca em |0000001>\n",
    "psi=[0]*(2**qubits)\n",
    "seta_base(psi,1)\n",
    "\n",
    "#coloca em superposicao os bits de L\n",
    "psi=sp_hadamard(psi, 3, qubits) #hadamard em l0 \n",
    "psi=sp_hadamard(psi, 2, qubits) #hadamard em l1 \n",
    "psi=sp_hadamard(psi, 1, qubits) #hadamard em l2 \n",
    "print \"qubits L em superposição\"\n",
    "print psi\n",
    "\n",
    "#parte de f de x\n",
    "psi=shor_fx(psi, 1, a, 15, 3, 4) #multiplica por a se l0=1\n",
    "psi=shor_fx(psi, 2, a**2, 15, 3, 4) #multiplica por a^2 se l1=1\n",
    "psi=shor_fx(psi, 3, a**4, 15, 3, 4) #multiplica por a^3  se l2=1 terminado e multiplicando por a^(l2l1l0)\n",
    "\n",
    "print \"-------------------------\"\n",
    "print \"matrizes de permutação aplicadas para econtrar f(x)\"\n",
    "print psi\n",
    "\n",
    "#IQFT transformada de fourier quantica inversa\n",
    "psi=sp_hadamard(psi, 1, qubits) #hadamard em l2 \n",
    "psi=sp_Cfase(psi, 2, 1, qubits, math.pi/2) #mudanca de fase de pi/2 controlada por l2 em l1\n",
    "psi=sp_Cfase(psi, 3, 1, qubits, math.pi/4) #mudanca de fase de pi/4 controlada por l2 em l0\n",
    "psi=sp_hadamard(psi, 2, qubits) #hadamard em l1 \n",
    "psi=sp_Cfase(psi, 3, 2, qubits, math.pi/2) #mudanca de fase de pi/2 controlada por l2 em l1\n",
    "psi=sp_hadamard(psi, 1, qubits) #hadamard em l0 \n",
    "\n",
    "print \"-------------------------\"\n",
    "print \"transformada de fourier quântica inversa aplicada para encontrar o período da função\"\n",
    "print psi\n",
    "\n",
    "\n",
    "psi=psi.toarray()[0]\n"
   ]
  },
  {
   "cell_type": "code",
   "execution_count": 302,
   "metadata": {},
   "outputs": [
    {
     "name": "stdout",
     "output_type": "stream",
     "text": [
      "medida= 1110111 119\n",
      "x= 111 7\n",
      "f= 0111 7\n",
      "x/2^L= 0.875\n"
     ]
    }
   ],
   "source": [
    "resultado=medir(psi)\n",
    "x = (resultado/16)\n",
    "f=resultado-x*16\n",
    "print \"medida=\", bin(resultado)[2:].zfill(7), resultado \n",
    "print \"x=\", bin(x)[2:].zfill(3), x\n",
    "print \"f=\", bin(f)[2:].zfill(4), f\n",
    "print \"x/2^L=\", x/8.0"
   ]
  },
  {
   "cell_type": "markdown",
   "metadata": {},
   "source": [
    "|a |f(x) possíveis |\n",
    "|-------|------|\n",
    "|2 | 1, 2, 4, 8|\n",
    "|4 | 1, 4 |\n",
    "|7 | 1, 7, 4, 13|\n",
    "|8 | 1, 8, 4, 2|\n",
    "|11 | 1, 11|\n",
    "|13 | 1, 13, 4, 7|\n",
    "|14 | 1, 14|\n"
   ]
  },
  {
   "cell_type": "code",
   "execution_count": null,
   "metadata": {},
   "outputs": [],
   "source": []
  }
 ],
 "metadata": {
  "kernelspec": {
   "display_name": "Python 2",
   "language": "python",
   "name": "python2"
  },
  "language_info": {
   "codemirror_mode": {
    "name": "ipython",
    "version": 2
   },
   "file_extension": ".py",
   "mimetype": "text/x-python",
   "name": "python",
   "nbconvert_exporter": "python",
   "pygments_lexer": "ipython2",
   "version": "2.7.12"
  }
 },
 "nbformat": 4,
 "nbformat_minor": 2
}
